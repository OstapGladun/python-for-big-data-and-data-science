{
  "cells": [
    {
      "cell_type": "markdown",
      "metadata": {
        "id": "5qV_sehzFCTp"
      },
      "source": [
        "# I. OOP"
      ]
    },
    {
      "cell_type": "markdown",
      "metadata": {
        "id": "tx_U_hOALyfg"
      },
      "source": [
        "    1. (6б). Створіть клас Building, додайте три атрибути, один з яких має значення за замовчуванням та два методи на свій розсуд."
      ]
    },
    {
      "cell_type": "code",
      "execution_count": 11,
      "metadata": {
        "id": "-Vf895KaL88N"
      },
      "outputs": [],
      "source": [
        "class Building:\n",
        "    def __init__(self, address, year_built, number_of_floors = 1):\n",
        "        self.address = address\n",
        "        self.year_built = year_built\n",
        "        self.number_of_floors = number_of_floors\n",
        "        \n",
        "    def get_building_info(self):\n",
        "        return f\"Building at {self.address} was built in {self.year_built} and has {self.number_of_floors} floors;\"\n",
        "    \n",
        "    def get_building_age(self, current_year):\n",
        "        return current_year - self.year_built"
      ]
    },
    {
      "cell_type": "markdown",
      "metadata": {
        "id": "X_UlOMB0L93w"
      },
      "source": [
        "2. (2б). Створіть два обʼєкти цього класу, де один з обʼєктів створюється із дефолтним значенням атрибуту. На одному обʼєкті отримайте значення його атрибуту, а на іншому викличте один з його методів."
      ]
    },
    {
      "cell_type": "code",
      "execution_count": 12,
      "metadata": {
        "id": "7gBu0ESOMCpG"
      },
      "outputs": [
        {
          "name": "stdout",
          "output_type": "stream",
          "text": [
            "Building 1 was built in 1967\n",
            "Building 2 is 110 years old\n"
          ]
        }
      ],
      "source": [
        "building1 = Building(\"15 Ivana Franka street\", 1967)\n",
        "print(f\"Building 1 was built in {building1.year_built}\")\n",
        "building2 = Building(\"54 Tarasa Shevchenko street\", 1915, 5)\n",
        "print(f\"Building 2 is {building2.get_building_age(2025)} years old\")"
      ]
    },
    {
      "cell_type": "markdown",
      "metadata": {
        "id": "HoqSCZt1MHn5"
      },
      "source": [
        "3. (5б). Створіть клас, де атрибути мають різні рівні доступу. Спробуйте отримати їхні значення та опишіть результати."
      ]
    },
    {
      "cell_type": "code",
      "execution_count": 13,
      "metadata": {
        "id": "r9b3vJxBMSPV"
      },
      "outputs": [
        {
          "name": "stdout",
          "output_type": "stream",
          "text": [
            "Public attribute\n",
            "Protected attribute\n"
          ]
        },
        {
          "ename": "AttributeError",
          "evalue": "'ExampleClass' object has no attribute '__private_attr'",
          "output_type": "error",
          "traceback": [
            "\u001b[1;31m---------------------------------------------------------------------------\u001b[0m",
            "\u001b[1;31mAttributeError\u001b[0m                            Traceback (most recent call last)",
            "Cell \u001b[1;32mIn[13], line 10\u001b[0m\n\u001b[0;32m      8\u001b[0m \u001b[38;5;28mprint\u001b[39m(obj\u001b[38;5;241m.\u001b[39mpublic_attr)\n\u001b[0;32m      9\u001b[0m \u001b[38;5;28mprint\u001b[39m(obj\u001b[38;5;241m.\u001b[39m_protected_attr)\n\u001b[1;32m---> 10\u001b[0m \u001b[38;5;28mprint\u001b[39m(\u001b[43mobj\u001b[49m\u001b[38;5;241;43m.\u001b[39;49m\u001b[43m__private_attr\u001b[49m)\n",
            "\u001b[1;31mAttributeError\u001b[0m: 'ExampleClass' object has no attribute '__private_attr'"
          ]
        }
      ],
      "source": [
        "class ExampleClass:\n",
        "    def __init__(self, public_attr, protected_attr, private_attr):\n",
        "        self.public_attr = public_attr\n",
        "        self._protected_attr = protected_attr\n",
        "        self.__private_attr = private_attr\n",
        "\n",
        "obj = ExampleClass(\"Public attribute\", \"Protected attribute\", \"Private attribute\")\n",
        "print(obj.public_attr)\n",
        "print(obj._protected_attr)\n",
        "print(obj.__private_attr)\n"
      ]
    },
    {
      "cell_type": "markdown",
      "metadata": {
        "id": "5op2m2vgMSkZ"
      },
      "source": [
        "4. (7б). Як ви розумієте термін self? Для чого використовується метод __init __?"
      ]
    },
    {
      "cell_type": "markdown",
      "metadata": {
        "id": "DyiPqNRvMasx"
      },
      "source": [
        "self – посилання на сам об'єкт класу, з яким ми працюємо в методі. __init__ – конструктор, що дозволяє встановити атрибути об'єкта при його створенні."
      ]
    },
    {
      "cell_type": "markdown",
      "metadata": {
        "id": "-6X8EGfjMd2y"
      },
      "source": [
        "5. (9б). Створіть клас 3D-фігура без атрибутів, з методом get_volume для отримання об'єму фігури, що повертає 0 та __add __, який приймає self та other в якості аргументів, а повертає суму об'ємів 3d-фігур self та other."
      ]
    },
    {
      "cell_type": "code",
      "execution_count": null,
      "metadata": {
        "id": "4rvO_wYUMaEr"
      },
      "outputs": [
        {
          "name": "stdout",
          "output_type": "stream",
          "text": [
            "0\n"
          ]
        }
      ],
      "source": [
        "class Shape3D:\n",
        "    def get_volume(self):\n",
        "        return 0\n",
        "    \n",
        "    def __add__(self, other):\n",
        "        return self.get_volume() + other.get_volume()\n",
        "\n",
        "fig1 = Shape3D()\n",
        "fig2 = Shape3D()\n",
        "print(fig1 + fig2)"
      ]
    },
    {
      "cell_type": "markdown",
      "metadata": {
        "id": "SFcKnnv5Mo_z"
      },
      "source": [
        "6. (11б). Створіть 2 дочірніх класи від 3d-фігура: Циліндр та Куб, які мають атрибути, необхідні для розрахунку об'єму. Визначте метод get_volume в кожному з них так, щоби вони розраховували об'єм у залежності від формули для кожного типу фігури. Створіть обʼєкт класу Циліндр та обʼєкт класу Куб. Виконайте операцію суми за допомогою оператора + між ними, аби знайти сумарний об'єм."
      ]
    },
    {
      "cell_type": "code",
      "execution_count": null,
      "metadata": {
        "id": "H3GVNr69Muf3"
      },
      "outputs": [
        {
          "name": "stdout",
          "output_type": "stream",
          "text": [
            "77.26548245743669\n"
          ]
        }
      ],
      "source": [
        "import math\n",
        "\n",
        "class Cylinder(Shape3D):\n",
        "    def __init__(self, radius, height):\n",
        "        self.radius = radius\n",
        "        self.height = height\n",
        "\n",
        "    def get_volume(self):\n",
        "        return math.pi * self.radius**2 * self.height\n",
        "\n",
        "class Cube(Shape3D):\n",
        "    def __init__(self, side_length):\n",
        "        self.side_length = side_length\n",
        "        \n",
        "    def get_volume(self):\n",
        "        return self.side_length**3\n",
        "\n",
        "cylinder = Cylinder(2, 4)\n",
        "cube = Cube(3)\n",
        "print(cylinder + cube)\n"
      ]
    },
    {
      "cell_type": "markdown",
      "metadata": {
        "id": "HCvR206YMvLK"
      },
      "source": [
        "7. (3б). Продемонструйте різницю між isinstance та issubclass."
      ]
    },
    {
      "cell_type": "code",
      "execution_count": null,
      "metadata": {
        "id": "L_V1bBvDM0GN"
      },
      "outputs": [
        {
          "name": "stdout",
          "output_type": "stream",
          "text": [
            "True\n",
            "True\n",
            "False\n",
            "True\n",
            "False\n",
            "True\n"
          ]
        }
      ],
      "source": [
        "class Class1:\n",
        "    pass\n",
        "class Class2(Class1):\n",
        "    pass\n",
        "\n",
        "obj = Class2()\n",
        "\n",
        "print(isinstance(obj, Class2))\n",
        "print(isinstance(obj, Class1))\n",
        "print(isinstance(obj, int))\n",
        "\n",
        "print(issubclass(Class2, Class1))\n",
        "print(issubclass(Class1, Class2))\n",
        "print(issubclass(Class1, object))"
      ]
    },
    {
      "cell_type": "markdown",
      "metadata": {
        "id": "jjsaBZ-iM0Qq"
      },
      "source": [
        "8. (13б). Створіть клас EWallet з приватними атрибутами balance та id. Реалізуйте методи поповнення та зняття коштів, забезпечивши належну інкапсуляцію. Підказка: використовуйте декоратори property та setter."
      ]
    },
    {
      "cell_type": "code",
      "execution_count": null,
      "metadata": {
        "id": "xCvZ7lh8M7YA"
      },
      "outputs": [
        {
          "name": "stdout",
          "output_type": "stream",
          "text": [
            "ID: X10293\n",
            "Starting balance: 35657.5\n",
            "Deposited 1000.00. New balance: 36657.50\n",
            "Withdrawed 36000.00. New balance: 657.50\n",
            "Not enough money to withdraw 1000\n",
            "Deposit sum must be greater than 0.\n"
          ]
        }
      ],
      "source": [
        "class EWallet:\n",
        "    def __init__(self, wallet_id, staring_balance=0.0):\n",
        "        self.__id = wallet_id\n",
        "        self.__balance = staring_balance\n",
        "\n",
        "    @property\n",
        "    def balance(self):\n",
        "        return self.__balance\n",
        "\n",
        "    @property\n",
        "    def wallet_id(self):\n",
        "        return self.__id\n",
        "\n",
        "    def deposit(self, amount):\n",
        "        if amount > 0:\n",
        "            self.__balance += amount\n",
        "            print(f\"Deposited {amount:.2f}. New balance: {self.__balance:.2f}\")\n",
        "        else:\n",
        "            print(\"Deposit sum must be greater than 0.\")\n",
        "\n",
        "    def withdraw(self, amount):\n",
        "        if amount > 0:\n",
        "            if amount <= self.__balance:\n",
        "                self.__balance -= amount\n",
        "                print(f\"Withdrawed {amount:.2f}. New balance: {self.__balance:.2f}\")\n",
        "            else:\n",
        "                print(f\"Not enough money to withdraw {amount}\")\n",
        "        else:\n",
        "            print(\"Sum to withdraw must be greater than 0.\")\n",
        "\n",
        "wallet = EWallet(\"X10293\", 35657.50)\n",
        "print(f\"ID: {wallet.wallet_id}\")\n",
        "print(f\"Starting balance: {wallet.balance}\")\n",
        "\n",
        "wallet.deposit(1000)\n",
        "wallet.withdraw(36000)\n",
        "wallet.withdraw(1000)\n",
        "wallet.deposit(-1)"
      ]
    },
    {
      "cell_type": "markdown",
      "metadata": {
        "id": "tIzL2SJTM8ft"
      },
      "source": [
        "9. (11б). Створіть клас ShoppingCart, який містить список об'єктів типу Item. Реалізуйте методи для додавання айтемів, їх видалення та відображення списку айтемів."
      ]
    },
    {
      "cell_type": "code",
      "execution_count": null,
      "metadata": {
        "id": "HWxfJKLtNAUZ"
      },
      "outputs": [
        {
          "name": "stdout",
          "output_type": "stream",
          "text": [
            "Items in shopping cart:\n",
            "Headphones\n",
            "Powerbank\n",
            "Laptop\n",
            "Removed Powerbank from the cart.\n",
            "Items in shopping cart:\n",
            "Headphones\n",
            "Laptop\n"
          ]
        }
      ],
      "source": [
        "class ShoppingCart:\n",
        "    def __init__(self, item_list = []):\n",
        "        self.item_list = item_list\n",
        "\n",
        "    def add_item(self, item):\n",
        "        self.item_list.append(item)\n",
        "\n",
        "    def remove_item(self, item_name):\n",
        "        item_to_remove = next((item for item in self.item_list if item.name == item_name), None)\n",
        "        if item_to_remove:\n",
        "            self.item_list.remove(item_to_remove)\n",
        "            print(f\"Removed {item_name} from the cart.\")\n",
        "        else:\n",
        "            print(f\"Item {item_name} not found in the cart.\")\n",
        "\n",
        "    def print_item_list(self):\n",
        "        print(\"Items in shopping cart:\")\n",
        "        for item in self.item_list:\n",
        "            print(item.name)\n",
        "            \n",
        "class Item:\n",
        "    def __init__(self, name, price):\n",
        "        self.name = name\n",
        "        self.price = price\n",
        "\n",
        "cart = ShoppingCart()\n",
        "item1 = Item(\"Headphones\", 799)\n",
        "item2 = Item(\"Powerbank\", 599)\n",
        "item3 = Item(\"Laptop\", 15000)\n",
        "cart.add_item(item1)\n",
        "cart.add_item(item2)\n",
        "cart.add_item(item3)\n",
        "cart.print_item_list()\n",
        "cart.remove_item(\"Powerbank\")\n",
        "cart.print_item_list()"
      ]
    },
    {
      "cell_type": "markdown",
      "metadata": {
        "id": "lmV8pAwwNIqu"
      },
      "source": [
        "10. (13б). Створіть клас Vehicle з атрибутами brand (manufacturer) та production_age. Створіть ще один клас Engine з такими атрибутами, як type (ex. petrol) та size (volume, litres). Створіть клас Car, який успадковує обидва класи Vehicle та Engine. Продемонструйте використання множинної спадковості, створивши обʼєкт класу Car та отримавши mro для цього класу."
      ]
    },
    {
      "cell_type": "code",
      "execution_count": null,
      "metadata": {
        "id": "R49grKlWNPeN"
      },
      "outputs": [
        {
          "name": "stdout",
          "output_type": "stream",
          "text": [
            "Brand: Toyota, Production Age: 5 years, Engine Type: Petrol, Size: 2.0L\n",
            "\n",
            "Method Resolution Order (MRO):\n",
            "[<class '__main__.Car'>, <class '__main__.Vehicle'>, <class '__main__.Engine'>, <class 'object'>]\n"
          ]
        }
      ],
      "source": [
        "class Vehicle:\n",
        "    def __init__(self, brand, production_age):\n",
        "        self.brand = brand\n",
        "        self.production_age = production_age\n",
        "\n",
        "    def vehicle_info(self):\n",
        "        return f\"Brand: {self.brand}, Production Age: {self.production_age} years\"\n",
        "\n",
        "\n",
        "class Engine:\n",
        "    def __init__(self, engine_type, size):\n",
        "        self.engine_type = engine_type\n",
        "        self.size = size\n",
        "\n",
        "    def engine_info(self):\n",
        "        return f\"Engine Type: {self.engine_type}, Size: {self.size}L\"\n",
        "\n",
        "\n",
        "class Car(Vehicle, Engine):\n",
        "    def __init__(self, brand, production_age, engine_type, size):\n",
        "        Vehicle.__init__(self, brand, production_age)\n",
        "        Engine.__init__(self, engine_type, size)\n",
        "\n",
        "    def car_info(self):\n",
        "        return f\"{self.vehicle_info()}, {self.engine_info()}\"\n",
        "\n",
        "\n",
        "my_car = Car(\"Toyota\", 5, \"Petrol\", 2.0)\n",
        "print(my_car.car_info())\n",
        "print(\"\\nMethod Resolution Order (MRO):\")\n",
        "print(Car.mro())"
      ]
    },
    {
      "cell_type": "markdown",
      "metadata": {
        "id": "dIJyUiNBFG8G"
      },
      "source": [
        "# II. Iterator"
      ]
    },
    {
      "cell_type": "markdown",
      "metadata": {
        "id": "13vsm0NyKIzL"
      },
      "source": [
        "11. (4б). Визначте рядок(str) з 4ма різними за значенням символами. Створіть ітератор на основі цього рядка. Викличте 5 разів функцію next на ітераторі, 4ри перших з них огорніть у ф-цію print()."
      ]
    },
    {
      "cell_type": "code",
      "execution_count": 16,
      "metadata": {
        "id": "81ntabAkKuz-"
      },
      "outputs": [
        {
          "name": "stdout",
          "output_type": "stream",
          "text": [
            "a\n",
            "b\n",
            "c\n",
            "d\n"
          ]
        },
        {
          "data": {
            "text/plain": [
              "'e'"
            ]
          },
          "execution_count": 16,
          "metadata": {},
          "output_type": "execute_result"
        }
      ],
      "source": [
        "string1 = \"abcde\"\n",
        "iterator = iter(string1)\n",
        "\n",
        "print(next(iterator))\n",
        "print(next(iterator))\n",
        "print(next(iterator))\n",
        "print(next(iterator))\n",
        "next(iterator)"
      ]
    },
    {
      "cell_type": "markdown",
      "metadata": {
        "id": "aekWHGXOLRsO"
      },
      "source": [
        "А що якщо викликати цю ж функцію на рядку?"
      ]
    },
    {
      "cell_type": "code",
      "execution_count": 17,
      "metadata": {
        "id": "mxATGsErLV1i"
      },
      "outputs": [
        {
          "ename": "TypeError",
          "evalue": "'str' object is not an iterator",
          "output_type": "error",
          "traceback": [
            "\u001b[1;31m---------------------------------------------------------------------------\u001b[0m",
            "\u001b[1;31mTypeError\u001b[0m                                 Traceback (most recent call last)",
            "Cell \u001b[1;32mIn[17], line 2\u001b[0m\n\u001b[0;32m      1\u001b[0m string2 \u001b[38;5;241m=\u001b[39m \u001b[38;5;124m\"\u001b[39m\u001b[38;5;124mabcde\u001b[39m\u001b[38;5;124m\"\u001b[39m\n\u001b[1;32m----> 2\u001b[0m \u001b[38;5;28;43mnext\u001b[39;49m\u001b[43m(\u001b[49m\u001b[43mstring2\u001b[49m\u001b[43m)\u001b[49m\n",
            "\u001b[1;31mTypeError\u001b[0m: 'str' object is not an iterator"
          ]
        }
      ],
      "source": [
        "string2 = \"abcde\"\n",
        "next(string2)"
      ]
    },
    {
      "cell_type": "markdown",
      "metadata": {
        "id": "XwtMEopwJ4pH"
      },
      "source": [
        " 12. (5б). Опишіть своїми словами в одному реченні, як ви розумієте різницю між ітерабельними обʼєктами та ітераторами (можна на прикладі)."
      ]
    },
    {
      "cell_type": "markdown",
      "metadata": {
        "id": "-sHrODc3KFn8"
      },
      "source": [
        "Ітерабельні об'єкти — це об'єкти, які можна перебирати у циклі, наприклад, список list, але вони самі по собі не зберігають стан ітерації, тоді як ітератори — це об'єкти, які реалізують методи __iter__() та __next__(), зберігаючи поточний стан ітерації."
      ]
    },
    {
      "cell_type": "markdown",
      "metadata": {
        "id": "E9qJWmNbK8Gl"
      },
      "source": [
        "13. (11б). Створіть клас, що має визначений Iterator Protocol та при кожному виклику next повертає назву дня тижня, поки вони не вичерпаються. Зверніть увагу, що порядок має значення."
      ]
    },
    {
      "cell_type": "code",
      "execution_count": 18,
      "metadata": {
        "id": "cqx-g_RsLo6I"
      },
      "outputs": [
        {
          "name": "stdout",
          "output_type": "stream",
          "text": [
            "Monday\n",
            "Tuesday\n",
            "Wednesday\n",
            "Thursday\n",
            "Friday\n",
            "Saturday\n",
            "Sunday\n"
          ]
        },
        {
          "ename": "StopIteration",
          "evalue": "",
          "output_type": "error",
          "traceback": [
            "\u001b[1;31m---------------------------------------------------------------------------\u001b[0m",
            "\u001b[1;31mStopIteration\u001b[0m                             Traceback (most recent call last)",
            "Cell \u001b[1;32mIn[18], line 27\u001b[0m\n\u001b[0;32m     24\u001b[0m \u001b[38;5;28mprint\u001b[39m(\u001b[38;5;28mnext\u001b[39m(week_iterator)) \n\u001b[0;32m     25\u001b[0m \u001b[38;5;28mprint\u001b[39m(\u001b[38;5;28mnext\u001b[39m(week_iterator))\n\u001b[1;32m---> 27\u001b[0m \u001b[38;5;28;43mnext\u001b[39;49m\u001b[43m(\u001b[49m\u001b[43mweek_iterator\u001b[49m\u001b[43m)\u001b[49m\n",
            "Cell \u001b[1;32mIn[18], line 15\u001b[0m, in \u001b[0;36mWeekdaysIterator.__next__\u001b[1;34m(self)\u001b[0m\n\u001b[0;32m     13\u001b[0m     \u001b[38;5;28;01mreturn\u001b[39;00m day\n\u001b[0;32m     14\u001b[0m \u001b[38;5;28;01melse\u001b[39;00m:\n\u001b[1;32m---> 15\u001b[0m     \u001b[38;5;28;01mraise\u001b[39;00m \u001b[38;5;167;01mStopIteration\u001b[39;00m\n",
            "\u001b[1;31mStopIteration\u001b[0m: "
          ]
        }
      ],
      "source": [
        "class WeekdaysIterator:\n",
        "    def __init__(self):\n",
        "        self.days = [\"Monday\", \"Tuesday\", \"Wednesday\", \"Thursday\", \"Friday\", \"Saturday\", \"Sunday\"]\n",
        "        self.index = 0 \n",
        "\n",
        "    def __iter__(self):\n",
        "        return self\n",
        "\n",
        "    def __next__(self):\n",
        "        if self.index < len(self.days):\n",
        "            day = self.days[self.index]\n",
        "            self.index += 1\n",
        "            return day\n",
        "        else:\n",
        "            raise StopIteration\n",
        "\n",
        "week_iterator = WeekdaysIterator()\n",
        "\n",
        "print(next(week_iterator))\n",
        "print(next(week_iterator))\n",
        "print(next(week_iterator))\n",
        "print(next(week_iterator))\n",
        "print(next(week_iterator))\n",
        "print(next(week_iterator)) \n",
        "print(next(week_iterator))\n",
        "\n",
        "next(week_iterator)"
      ]
    },
    {
      "cell_type": "markdown",
      "metadata": {
        "id": "Z3E3S_s1Fv7-"
      },
      "source": [
        "# Вітаю! Ви велика(ий) молодець, що впоралась(вся). Похваліть себе та побалуйте чимось приємним. Я Вами пишаюся."
      ]
    }
  ],
  "metadata": {
    "colab": {
      "provenance": []
    },
    "kernelspec": {
      "display_name": "Python 3",
      "name": "python3"
    },
    "language_info": {
      "codemirror_mode": {
        "name": "ipython",
        "version": 3
      },
      "file_extension": ".py",
      "mimetype": "text/x-python",
      "name": "python",
      "nbconvert_exporter": "python",
      "pygments_lexer": "ipython3",
      "version": "3.11.9"
    }
  },
  "nbformat": 4,
  "nbformat_minor": 0
}
